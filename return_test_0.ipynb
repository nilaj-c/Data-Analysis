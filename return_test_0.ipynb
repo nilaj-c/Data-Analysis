{
 "cells": [
  {
   "cell_type": "code",
   "execution_count": 2,
   "metadata": {},
   "outputs": [],
   "source": [
    "import numpy as np\n",
    "import pandas as pd\n",
    "from pandas_datareader import data as wb"
   ]
  },
  {
   "cell_type": "code",
   "execution_count": 17,
   "metadata": {},
   "outputs": [
    {
     "data": {
      "text/html": [
       "<div>\n",
       "<style scoped>\n",
       "    .dataframe tbody tr th:only-of-type {\n",
       "        vertical-align: middle;\n",
       "    }\n",
       "\n",
       "    .dataframe tbody tr th {\n",
       "        vertical-align: top;\n",
       "    }\n",
       "\n",
       "    .dataframe thead th {\n",
       "        text-align: right;\n",
       "    }\n",
       "</style>\n",
       "<table border=\"1\" class=\"dataframe\">\n",
       "  <thead>\n",
       "    <tr style=\"text-align: right;\">\n",
       "      <th></th>\n",
       "      <th>MSFT</th>\n",
       "      <th>AAPL</th>\n",
       "      <th>BA</th>\n",
       "      <th>BRK-B</th>\n",
       "      <th>PG</th>\n",
       "    </tr>\n",
       "    <tr>\n",
       "      <th>Date</th>\n",
       "      <th></th>\n",
       "      <th></th>\n",
       "      <th></th>\n",
       "      <th></th>\n",
       "      <th></th>\n",
       "    </tr>\n",
       "  </thead>\n",
       "  <tbody>\n",
       "    <tr>\n",
       "      <th>2019-01-02</th>\n",
       "      <td>100.318642</td>\n",
       "      <td>156.642365</td>\n",
       "      <td>320.350922</td>\n",
       "      <td>202.800003</td>\n",
       "      <td>89.928856</td>\n",
       "    </tr>\n",
       "    <tr>\n",
       "      <th>2019-01-03</th>\n",
       "      <td>96.628120</td>\n",
       "      <td>141.039642</td>\n",
       "      <td>307.578827</td>\n",
       "      <td>191.660004</td>\n",
       "      <td>89.298332</td>\n",
       "    </tr>\n",
       "    <tr>\n",
       "      <th>2019-01-04</th>\n",
       "      <td>101.122223</td>\n",
       "      <td>147.060516</td>\n",
       "      <td>323.585968</td>\n",
       "      <td>195.199997</td>\n",
       "      <td>91.120949</td>\n",
       "    </tr>\n",
       "    <tr>\n",
       "      <th>2019-01-07</th>\n",
       "      <td>101.251190</td>\n",
       "      <td>146.733185</td>\n",
       "      <td>324.604980</td>\n",
       "      <td>196.910004</td>\n",
       "      <td>90.756424</td>\n",
       "    </tr>\n",
       "    <tr>\n",
       "      <th>2019-01-08</th>\n",
       "      <td>101.985329</td>\n",
       "      <td>149.530380</td>\n",
       "      <td>336.892334</td>\n",
       "      <td>196.309998</td>\n",
       "      <td>91.091393</td>\n",
       "    </tr>\n",
       "    <tr>\n",
       "      <th>2019-01-09</th>\n",
       "      <td>103.443672</td>\n",
       "      <td>152.069672</td>\n",
       "      <td>340.157043</td>\n",
       "      <td>196.369995</td>\n",
       "      <td>89.603737</td>\n",
       "    </tr>\n",
       "    <tr>\n",
       "      <th>2019-01-10</th>\n",
       "      <td>102.778984</td>\n",
       "      <td>152.555710</td>\n",
       "      <td>348.843292</td>\n",
       "      <td>196.580002</td>\n",
       "      <td>89.820488</td>\n",
       "    </tr>\n",
       "    <tr>\n",
       "      <th>2019-01-11</th>\n",
       "      <td>101.985329</td>\n",
       "      <td>151.057922</td>\n",
       "      <td>349.130157</td>\n",
       "      <td>196.289993</td>\n",
       "      <td>90.411606</td>\n",
       "    </tr>\n",
       "  </tbody>\n",
       "</table>\n",
       "</div>"
      ],
      "text/plain": [
       "                  MSFT        AAPL          BA       BRK-B         PG\n",
       "Date                                                                 \n",
       "2019-01-02  100.318642  156.642365  320.350922  202.800003  89.928856\n",
       "2019-01-03   96.628120  141.039642  307.578827  191.660004  89.298332\n",
       "2019-01-04  101.122223  147.060516  323.585968  195.199997  91.120949\n",
       "2019-01-07  101.251190  146.733185  324.604980  196.910004  90.756424\n",
       "2019-01-08  101.985329  149.530380  336.892334  196.309998  91.091393\n",
       "2019-01-09  103.443672  152.069672  340.157043  196.369995  89.603737\n",
       "2019-01-10  102.778984  152.555710  348.843292  196.580002  89.820488\n",
       "2019-01-11  101.985329  151.057922  349.130157  196.289993  90.411606"
      ]
     },
     "execution_count": 17,
     "metadata": {},
     "output_type": "execute_result"
    }
   ],
   "source": [
    "stock_list = ['MSFT', 'AAPL','BA','BRK-B','PG']\n",
    "\n",
    "close_data = pd.DataFrame()\n",
    "\n",
    "for stock in stock_list:\n",
    "    close_data[stock] = wb.DataReader(stock, data_source='yahoo', \\\n",
    "                                      start='2019-01-01', end='2019-01-10')['Adj Close']\n",
    "\n",
    "close_data"
   ]
  },
  {
   "cell_type": "code",
   "execution_count": 29,
   "metadata": {},
   "outputs": [
    {
     "name": "stderr",
     "output_type": "stream",
     "text": [
      "/anaconda/lib/python3.6/site-packages/ipykernel_launcher.py:1: FutureWarning: Method .as_matrix will be removed in a future version. Use .values instead.\n",
      "  \"\"\"Entry point for launching an IPython kernel.\n"
     ]
    }
   ],
   "source": [
    "price_1 = close_data.as_matrix()"
   ]
  },
  {
   "cell_type": "code",
   "execution_count": 19,
   "metadata": {},
   "outputs": [
    {
     "data": {
      "text/html": [
       "<div>\n",
       "<style scoped>\n",
       "    .dataframe tbody tr th:only-of-type {\n",
       "        vertical-align: middle;\n",
       "    }\n",
       "\n",
       "    .dataframe tbody tr th {\n",
       "        vertical-align: top;\n",
       "    }\n",
       "\n",
       "    .dataframe thead th {\n",
       "        text-align: right;\n",
       "    }\n",
       "</style>\n",
       "<table border=\"1\" class=\"dataframe\">\n",
       "  <thead>\n",
       "    <tr style=\"text-align: right;\">\n",
       "      <th></th>\n",
       "      <th>MSFT</th>\n",
       "      <th>AAPL</th>\n",
       "      <th>BA</th>\n",
       "      <th>BRK-B</th>\n",
       "      <th>PG</th>\n",
       "    </tr>\n",
       "    <tr>\n",
       "      <th>Date</th>\n",
       "      <th></th>\n",
       "      <th></th>\n",
       "      <th></th>\n",
       "      <th></th>\n",
       "      <th></th>\n",
       "    </tr>\n",
       "  </thead>\n",
       "  <tbody>\n",
       "    <tr>\n",
       "      <th>2019-01-03</th>\n",
       "      <td>-0.036788</td>\n",
       "      <td>-0.099607</td>\n",
       "      <td>-0.039869</td>\n",
       "      <td>-0.054931</td>\n",
       "      <td>-0.007011</td>\n",
       "    </tr>\n",
       "    <tr>\n",
       "      <th>2019-01-04</th>\n",
       "      <td>0.046509</td>\n",
       "      <td>0.042689</td>\n",
       "      <td>0.052042</td>\n",
       "      <td>0.018470</td>\n",
       "      <td>0.020410</td>\n",
       "    </tr>\n",
       "    <tr>\n",
       "      <th>2019-01-07</th>\n",
       "      <td>0.001275</td>\n",
       "      <td>-0.002226</td>\n",
       "      <td>0.003149</td>\n",
       "      <td>0.008760</td>\n",
       "      <td>-0.004000</td>\n",
       "    </tr>\n",
       "    <tr>\n",
       "      <th>2019-01-08</th>\n",
       "      <td>0.007251</td>\n",
       "      <td>0.019063</td>\n",
       "      <td>0.037853</td>\n",
       "      <td>-0.003047</td>\n",
       "      <td>0.003691</td>\n",
       "    </tr>\n",
       "    <tr>\n",
       "      <th>2019-01-09</th>\n",
       "      <td>0.014300</td>\n",
       "      <td>0.016982</td>\n",
       "      <td>0.009691</td>\n",
       "      <td>0.000306</td>\n",
       "      <td>-0.016331</td>\n",
       "    </tr>\n",
       "    <tr>\n",
       "      <th>2019-01-10</th>\n",
       "      <td>-0.006426</td>\n",
       "      <td>0.003196</td>\n",
       "      <td>0.025536</td>\n",
       "      <td>0.001069</td>\n",
       "      <td>0.002419</td>\n",
       "    </tr>\n",
       "    <tr>\n",
       "      <th>2019-01-11</th>\n",
       "      <td>-0.007722</td>\n",
       "      <td>-0.009818</td>\n",
       "      <td>0.000822</td>\n",
       "      <td>-0.001475</td>\n",
       "      <td>0.006581</td>\n",
       "    </tr>\n",
       "  </tbody>\n",
       "</table>\n",
       "</div>"
      ],
      "text/plain": [
       "                MSFT      AAPL        BA     BRK-B        PG\n",
       "Date                                                        \n",
       "2019-01-03 -0.036788 -0.099607 -0.039869 -0.054931 -0.007011\n",
       "2019-01-04  0.046509  0.042689  0.052042  0.018470  0.020410\n",
       "2019-01-07  0.001275 -0.002226  0.003149  0.008760 -0.004000\n",
       "2019-01-08  0.007251  0.019063  0.037853 -0.003047  0.003691\n",
       "2019-01-09  0.014300  0.016982  0.009691  0.000306 -0.016331\n",
       "2019-01-10 -0.006426  0.003196  0.025536  0.001069  0.002419\n",
       "2019-01-11 -0.007722 -0.009818  0.000822 -0.001475  0.006581"
      ]
     },
     "execution_count": 19,
     "metadata": {},
     "output_type": "execute_result"
    }
   ],
   "source": [
    "return_df = close_data.pct_change()\n",
    "return_df = return_df[1:]\n",
    "return_df"
   ]
  },
  {
   "cell_type": "code",
   "execution_count": 20,
   "metadata": {},
   "outputs": [
    {
     "name": "stderr",
     "output_type": "stream",
     "text": [
      "/anaconda/lib/python3.6/site-packages/ipykernel_launcher.py:1: FutureWarning: Method .as_matrix will be removed in a future version. Use .values instead.\n",
      "  \"\"\"Entry point for launching an IPython kernel.\n"
     ]
    }
   ],
   "source": [
    "return_arr = return_df.as_matrix()"
   ]
  },
  {
   "cell_type": "code",
   "execution_count": 9,
   "metadata": {},
   "outputs": [
    {
     "data": {
      "text/plain": [
       "array([[-0.03678799, -0.09960729, -0.03986907, -0.05493096, -0.00701136],\n",
       "       [ 0.04650926,  0.04268923,  0.0520424 ,  0.01847017,  0.02041042],\n",
       "       [ 0.00127536, -0.00222583,  0.00314912,  0.00876028, -0.00400045],\n",
       "       [ 0.00725067,  0.01906314,  0.03785325, -0.00304711,  0.00369085],\n",
       "       [ 0.01429954,  0.01698178,  0.00969066,  0.00030563, -0.01633146],\n",
       "       [-0.0064256 ,  0.00319615,  0.025536  ,  0.00106944,  0.002419  ],\n",
       "       [-0.00772196, -0.00981797,  0.00082233, -0.00147527,  0.0065811 ]])"
      ]
     },
     "execution_count": 9,
     "metadata": {},
     "output_type": "execute_result"
    }
   ],
   "source": [
    "return_arr"
   ]
  },
  {
   "cell_type": "code",
   "execution_count": 10,
   "metadata": {},
   "outputs": [
    {
     "name": "stderr",
     "output_type": "stream",
     "text": [
      "/anaconda/lib/python3.6/site-packages/ipykernel_launcher.py:1: FutureWarning: Method .as_matrix will be removed in a future version. Use .values instead.\n",
      "  \"\"\"Entry point for launching an IPython kernel.\n"
     ]
    }
   ],
   "source": [
    "price_2 = np.zeros_like(close_data.as_matrix())"
   ]
  },
  {
   "cell_type": "code",
   "execution_count": 27,
   "metadata": {},
   "outputs": [
    {
     "name": "stderr",
     "output_type": "stream",
     "text": [
      "/anaconda/lib/python3.6/site-packages/ipykernel_launcher.py:1: FutureWarning: Method .as_matrix will be removed in a future version. Use .values instead.\n",
      "  \"\"\"Entry point for launching an IPython kernel.\n"
     ]
    }
   ],
   "source": [
    "price_2[0] = close_data.iloc[0].as_matrix()\n",
    "\n",
    "for t in range(1, close_data.shape[0]):\n",
    "    price_2[t] = price_2[t-1]*(1.0 + return_arr[t-1])"
   ]
  },
  {
   "cell_type": "code",
   "execution_count": 28,
   "metadata": {},
   "outputs": [
    {
     "data": {
      "text/plain": [
       "array([[100.31864166, 156.6423645 , 320.35092163, 202.80000305,\n",
       "         89.9288559 ],\n",
       "       [ 96.62812042, 141.03964233, 307.5788269 , 191.66000366,\n",
       "         89.29833221],\n",
       "       [101.1222229 , 147.06051636, 323.58596802, 195.19999695,\n",
       "         91.12094879],\n",
       "       [101.25119019, 146.73318481, 324.60498047, 196.91000366,\n",
       "         90.75642395],\n",
       "       [101.98532867, 149.53038025, 336.89233398, 196.30999756,\n",
       "         91.09139252],\n",
       "       [103.44367218, 152.06967163, 340.15704346, 196.36999512,\n",
       "         89.60373688],\n",
       "       [102.77898407, 152.55570984, 348.84329224, 196.58000183,\n",
       "         89.82048798],\n",
       "       [101.98532867, 151.05792236, 349.13015747, 196.28999329,\n",
       "         90.41160583]])"
      ]
     },
     "execution_count": 28,
     "metadata": {},
     "output_type": "execute_result"
    }
   ],
   "source": [
    "price_2"
   ]
  },
  {
   "cell_type": "code",
   "execution_count": 31,
   "metadata": {},
   "outputs": [],
   "source": [
    "x = price_1 - price_2"
   ]
  }
 ],
 "metadata": {
  "kernelspec": {
   "display_name": "Python 3",
   "language": "python",
   "name": "python3"
  },
  "language_info": {
   "codemirror_mode": {
    "name": "ipython",
    "version": 3
   },
   "file_extension": ".py",
   "mimetype": "text/x-python",
   "name": "python",
   "nbconvert_exporter": "python",
   "pygments_lexer": "ipython3",
   "version": "3.6.7"
  }
 },
 "nbformat": 4,
 "nbformat_minor": 2
}
